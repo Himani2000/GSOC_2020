{
 "cells": [
  {
   "cell_type": "code",
   "execution_count": 2,
   "metadata": {},
   "outputs": [],
   "source": [
    "import numpy as np\n",
    "import os\n",
    "import pandas as pd\n",
    "from matplotlib import pyplot as plt\n",
    "import os\n",
    "import cv2\n",
    "from tensorflow.keras.preprocessing import image\n",
    "%matplotlib inline\n",
    "import warnings\n",
    "warnings.filterwarnings('ignore')"
   ]
  },
  {
   "cell_type": "code",
   "execution_count": 3,
   "metadata": {},
   "outputs": [],
   "source": [
    "def loadFilePaths():\n",
    "    imdir_ideology = 'ideology_image_dataset/'\n",
    "    ideology_files=os.listdir('ideology_image_dataset/')\n",
    "    ideology_files_path=[os.path.join(imdir_ideology,file) for file in ideology_files ]\n",
    "    \n",
    "    return ideology_files_path"
   ]
  },
  {
   "cell_type": "code",
   "execution_count": 4,
   "metadata": {},
   "outputs": [],
   "source": [
    "# the function is used to calculate the features from the image \n",
    "def getFeatures(filelist): \n",
    "    filelist.sort()\n",
    "    featurelist = []\n",
    "    for i, imagepath in enumerate(filelist):\n",
    "        img = image.load_img(ideology_files_path[0],grayscale=True)\n",
    "        img_data = image.img_to_array(img)\n",
    "        img_data=img_data/255\n",
    "        r = 80 / img_data.shape[1]\n",
    "        dim = (80, int(img_data.shape[0] * r))\n",
    "        img_data = cv2.resize(img_data, dim, interpolation = cv2.INTER_AREA)\n",
    "        img_data = np.expand_dims(img_data, axis=0)\n",
    "\n",
    "        featurelist.append(img_data.flatten())\n",
    "\n",
    "    return featurelist"
   ]
  },
  {
   "cell_type": "code",
   "execution_count": 5,
   "metadata": {},
   "outputs": [],
   "source": [
    "def saveFeatures(features,modelname,filename):\n",
    "    saved_filename=filename+'_'+modelname\n",
    "    saved_filename=os.path.join('Image_features',saved_filename)\n",
    "\n",
    "    print(\"saving\",saved_filename+'.npy')\n",
    "    np.save(saved_filename+'.npy',features)"
   ]
  },
  {
   "cell_type": "code",
   "execution_count": 6,
   "metadata": {},
   "outputs": [
    {
     "data": {
      "text/plain": [
       "2942"
      ]
     },
     "execution_count": 6,
     "metadata": {},
     "output_type": "execute_result"
    }
   ],
   "source": [
    "ideology_files_path=loadFilePaths()\n",
    "len(ideology_files_path)\n"
   ]
  },
  {
   "cell_type": "code",
   "execution_count": 11,
   "metadata": {},
   "outputs": [
    {
     "name": "stdout",
     "output_type": "stream",
     "text": [
      "saving Image_features/ideology_gray_scale.npy\n"
     ]
    }
   ],
   "source": [
    "\n",
    "ideology_features=getFeatures(ideology_files_path)\n",
    "saveFeatures(ideology_features,'gray_scale','ideology')\n",
    "\n"
   ]
  },
  {
   "cell_type": "code",
   "execution_count": null,
   "metadata": {},
   "outputs": [],
   "source": []
  }
 ],
 "metadata": {
  "kernelspec": {
   "display_name": "Python 3",
   "language": "python",
   "name": "python3"
  },
  "language_info": {
   "codemirror_mode": {
    "name": "ipython",
    "version": 3
   },
   "file_extension": ".py",
   "mimetype": "text/x-python",
   "name": "python",
   "nbconvert_exporter": "python",
   "pygments_lexer": "ipython3",
   "version": "3.6.6"
  }
 },
 "nbformat": 4,
 "nbformat_minor": 2
}
