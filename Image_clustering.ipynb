{
  "nbformat": 4,
  "nbformat_minor": 0,
  "metadata": {
    "colab": {
      "name": "Image_clustering.ipynb",
      "provenance": []
    },
    "kernelspec": {
      "name": "python3",
      "display_name": "Python 3"
    },
    "accelerator": "GPU"
  },
  "cells": [
    {
      "cell_type": "code",
      "metadata": {
        "id": "VV0fucpermD2",
        "colab_type": "code",
        "outputId": "0442c4fe-4ca2-422c-b4c0-503eaf17bc22",
        "colab": {
          "base_uri": "https://localhost:8080/",
          "height": 126
        }
      },
      "source": [
        "from google.colab import drive\n",
        "drive.mount('/content/drive')"
      ],
      "execution_count": 2,
      "outputs": [
        {
          "output_type": "stream",
          "text": [
            "Go to this URL in a browser: https://accounts.google.com/o/oauth2/auth?client_id=947318989803-6bn6qk8qdgf4n4g3pfee6491hc0brc4i.apps.googleusercontent.com&redirect_uri=urn%3aietf%3awg%3aoauth%3a2.0%3aoob&response_type=code&scope=email%20https%3a%2f%2fwww.googleapis.com%2fauth%2fdocs.test%20https%3a%2f%2fwww.googleapis.com%2fauth%2fdrive%20https%3a%2f%2fwww.googleapis.com%2fauth%2fdrive.photos.readonly%20https%3a%2f%2fwww.googleapis.com%2fauth%2fpeopleapi.readonly\n",
            "\n",
            "Enter your authorization code:\n",
            "··········\n",
            "Mounted at /content/drive\n"
          ],
          "name": "stdout"
        }
      ]
    },
    {
      "cell_type": "code",
      "metadata": {
        "id": "3MLQqkfRrm6F",
        "colab_type": "code",
        "outputId": "3dc9e8e0-2c74-4c20-e70e-98c5be300a14",
        "colab": {
          "base_uri": "https://localhost:8080/",
          "height": 52
        }
      },
      "source": [
        "cd '/content/drive/My Drive/Image_Audio_clustering_GSOC2020/'"
      ],
      "execution_count": 1,
      "outputs": [
        {
          "output_type": "stream",
          "text": [
            "[Errno 2] No such file or directory: '/content/drive/My Drive/Image_Audio_clustering_GSOC2020/'\n",
            "/content\n"
          ],
          "name": "stdout"
        }
      ]
    },
    {
      "cell_type": "code",
      "metadata": {
        "id": "A2pLF8n7rv73",
        "colab_type": "code",
        "colab": {
          "base_uri": "https://localhost:8080/",
          "height": 55
        },
        "outputId": "04c48a1d-c023-44e8-91f3-4e6e2fe6ae39"
      },
      "source": [
        "\"\"\"\n",
        "import zipfile\n",
        "zip_ref = zipfile.ZipFile('ideology_image_dataset.zip', 'r')\n",
        "zip_ref.extractall()\n",
        "zip_ref.close()\n",
        "\n",
        "zip_ref = zipfile.ZipFile('muslim_image_dataset.zip', 'r')\n",
        "zip_ref.extractall()\n",
        "zip_ref.close()\n",
        "\"\"\""
      ],
      "execution_count": 3,
      "outputs": [
        {
          "output_type": "execute_result",
          "data": {
            "text/plain": [
              "\"\\nimport zipfile\\nzip_ref = zipfile.ZipFile('ideology_image_dataset.zip', 'r')\\nzip_ref.extractall()\\nzip_ref.close()\\n\\nzip_ref = zipfile.ZipFile('muslim_image_dataset.zip', 'r')\\nzip_ref.extractall()\\nzip_ref.close()\\n\""
            ]
          },
          "metadata": {
            "tags": []
          },
          "execution_count": 3
        }
      ]
    },
    {
      "cell_type": "code",
      "metadata": {
        "id": "oNvMYjD7sBKu",
        "colab_type": "code",
        "outputId": "8dfc3c56-c9f6-44b2-cd7a-8187a8576f9d",
        "colab": {
          "base_uri": "https://localhost:8080/",
          "height": 106
        }
      },
      "source": [
        "!ls"
      ],
      "execution_count": 4,
      "outputs": [
        {
          "output_type": "stream",
          "text": [
            "'Clustering algorithms.gdoc'   Image_clustering.ipynb\n",
            " ideology_image_dataset        muslim_image_dataset\n",
            " ideology_image_dataset.zip    muslim_image_dataset.zip\n",
            " ideology.npy\t\t       muslim.npy\n",
            " image_audio_clustering.gdoc\n"
          ],
          "name": "stdout"
        }
      ]
    },
    {
      "cell_type": "code",
      "metadata": {
        "id": "ThWK6T1SsBoW",
        "colab_type": "code",
        "colab": {}
      },
      "source": [
        "import numpy as np\n",
        "import os\n",
        "import pandas as pd\n",
        "import tensorflow as tf\n",
        "from tensorflow import keras\n",
        "from tensorflow.keras import layers\n",
        "from tensorflow.keras.preprocessing import image\n",
        "from tensorflow.keras.applications.vgg16 import VGG16\n",
        "from tensorflow.keras.applications.vgg16 import preprocess_input\n",
        "\n",
        "from sklearn.cluster import KMeans,AgglomerativeClustering,DBSCAN,OPTICS,MeanShift\n",
        "import os, shutil, glob, os.path\n",
        "from PIL import Image as pil_image\n",
        "from matplotlib import pyplot as plt\n",
        "\n",
        "import sklearn\n",
        "\n",
        "from sklearn.metrics import pairwise_distances\n",
        "from sklearn import metrics\n",
        "from sklearn.metrics import pairwise_distances\n",
        "from sklearn.metrics import davies_bouldin_score\n",
        "\n"
      ],
      "execution_count": 0,
      "outputs": []
    },
    {
      "cell_type": "code",
      "metadata": {
        "id": "WZc4Vk6QEgGg",
        "colab_type": "code",
        "colab": {
          "base_uri": "https://localhost:8080/",
          "height": 52
        },
        "outputId": "b79a2d30-0316-476f-c7a7-df08f4789a3c"
      },
      "source": [
        "model = VGG16(weights='imagenet', include_top=False)"
      ],
      "execution_count": 6,
      "outputs": [
        {
          "output_type": "stream",
          "text": [
            "Downloading data from https://storage.googleapis.com/tensorflow/keras-applications/vgg16/vgg16_weights_tf_dim_ordering_tf_kernels_notop.h5\n",
            "58892288/58889256 [==============================] - 1s 0us/step\n"
          ],
          "name": "stdout"
        }
      ]
    },
    {
      "cell_type": "code",
      "metadata": {
        "id": "ky5MF3FYuVY6",
        "colab_type": "code",
        "colab": {}
      },
      "source": [
        "image.LOAD_TRUNCATED_IMAGES = True\n",
        "\n",
        "# Variables\n",
        "#method = \"kmeans\"\n",
        "#method = \"hierarchical\"\n",
        "imdir_ideology = 'ideology_image_dataset/'\n",
        "imdir_muslim='muslim_image_dataset/'\n",
        "number_clusters = 500\n",
        "threshold = 2000.0 # needs to be float\n",
        "targetdirbase_ideology = \"ideology_cluster_output/\"\n",
        "targetdirbase_muslim=\"muslim_cluster_output/\""
      ],
      "execution_count": 0,
      "outputs": []
    },
    {
      "cell_type": "code",
      "metadata": {
        "id": "K4ypPZIrsc7z",
        "colab_type": "code",
        "outputId": "aa91a586-c342-4dbf-dd1d-3a3918a507a8",
        "colab": {
          "base_uri": "https://localhost:8080/",
          "height": 35
        }
      },
      "source": [
        "ideology_files=os.listdir('ideology_image_dataset/')\n",
        "muslim_files=os.listdir('muslim_image_dataset/')\n",
        "len(ideology_files),len(muslim_files)"
      ],
      "execution_count": 8,
      "outputs": [
        {
          "output_type": "execute_result",
          "data": {
            "text/plain": [
              "(2942, 242)"
            ]
          },
          "metadata": {
            "tags": []
          },
          "execution_count": 8
        }
      ]
    },
    {
      "cell_type": "code",
      "metadata": {
        "id": "T7ZnjDLCt38n",
        "colab_type": "code",
        "colab": {}
      },
      "source": [
        "ideology_files_path=[os.path.join(imdir_ideology,file) for file in ideology_files ]\n",
        "muslim_files_path=[os.path.join(imdir_muslim,file) for file in muslim_files]"
      ],
      "execution_count": 0,
      "outputs": []
    },
    {
      "cell_type": "code",
      "metadata": {
        "id": "mWSTo6Qduq_o",
        "colab_type": "code",
        "outputId": "6c09feea-56b0-4e1c-d567-999439574b68",
        "colab": {
          "base_uri": "https://localhost:8080/",
          "height": 52
        }
      },
      "source": [
        "ideology_files_path[0],muslim_files_path[0]"
      ],
      "execution_count": 10,
      "outputs": [
        {
          "output_type": "execute_result",
          "data": {
            "text/plain": [
              "('ideology_image_dataset/clip_2797.jpg',\n",
              " 'muslim_image_dataset/t__0473496c_295d_11e6_844a_089e01ba0335.jpg')"
            ]
          },
          "metadata": {
            "tags": []
          },
          "execution_count": 10
        }
      ]
    },
    {
      "cell_type": "code",
      "metadata": {
        "id": "D_pTI8nIvP2m",
        "colab_type": "code",
        "colab": {}
      },
      "source": [
        "def visualize_dataset(file_paths):\n",
        "  rows=2\n",
        "  for num, x in enumerate(file_paths[0:12]):\n",
        "      img = pil_image.open(x)\n",
        "      plt.subplot(rows,6,num+1)\n",
        "      #plt.title(x.split('.')[0])\n",
        "      plt.axis('off')\n",
        "      plt.imshow(img)"
      ],
      "execution_count": 0,
      "outputs": []
    },
    {
      "cell_type": "code",
      "metadata": {
        "id": "6z1YIvNZv5yJ",
        "colab_type": "code",
        "outputId": "10536c26-b439-4a6f-fff0-31a285f39485",
        "colab": {
          "base_uri": "https://localhost:8080/",
          "height": 181
        }
      },
      "source": [
        "visualize_dataset(ideology_files_path)"
      ],
      "execution_count": 0,
      "outputs": [
        {
          "output_type": "display_data",
          "data": {
            "image/png": "[encoded data removed]",
            "text/plain": [
              "<Figure size 432x288 with 12 Axes>"
            ]
          },
          "metadata": {
            "tags": [],
            "needs_background": "light"
          }
        }
      ]
    },
    {
      "cell_type": "code",
      "metadata": {
        "id": "zugZU0-_wqcj",
        "colab_type": "code",
        "outputId": "a109d33a-e7e5-4642-c28d-5fd11da255a7",
        "colab": {
          "base_uri": "https://localhost:8080/",
          "height": 181
        }
      },
      "source": [
        "visualize_dataset(muslim_files_path)"
      ],
      "execution_count": 0,
      "outputs": [
        {
          "output_type": "display_data",
          "data": {
            "image/png": "[encoded data removed]",
            "text/plain": [
              "<Figure size 432x288 with 12 Axes>"
            ]
          },
          "metadata": {
            "tags": [],
            "needs_background": "light"
          }
        }
      ]
    },
    {
      "cell_type": "code",
      "metadata": {
        "id": "FrDlRHUgwtFr",
        "colab_type": "code",
        "colab": {}
      },
      "source": [
        " # the function is used to calculate the features from the image \n",
        " def get_features(filelist): \n",
        "  filelist.sort()\n",
        "  featurelist = []\n",
        "  for i, imagepath in enumerate(filelist):\n",
        "    print(\" Status: %s / %s\" %(i, len(filelist)), end=\"\\r\")\n",
        "    img = image.load_img(imagepath, target_size=(224, 224))\n",
        "    img_data = image.img_to_array(img)\n",
        "    img_data = np.expand_dims(img_data, axis=0)\n",
        "    img_data = preprocess_input(img_data)\n",
        "    features = np.array(model.predict(img_data))\n",
        "    featurelist.append(features.flatten())\n",
        "  return featurelist"
      ],
      "execution_count": 0,
      "outputs": []
    },
    {
      "cell_type": "code",
      "metadata": {
        "id": "LrwDm8U5xUAC",
        "colab_type": "code",
        "colab": {}
      },
      "source": [
        "# calculating the muslim and the ideology features \n",
        "ideology_features=get_features(ideology_files_path)\n",
        "muslim_features=get_features(muslim_files_path)\n",
        "len(ideology_features),len(muslim_features)"
      ],
      "execution_count": 0,
      "outputs": []
    },
    {
      "cell_type": "code",
      "metadata": {
        "id": "eEb7anRlGL5_",
        "colab_type": "code",
        "colab": {}
      },
      "source": [
        "# saving the idelogy and the muslim features \n",
        "with open('ideology.npy', 'wb') as f:\n",
        "    np.save(f, np.array(ideology_features))\n",
        "\n",
        "with open('muslim.npy', 'wb') as f:\n",
        "    np.save(f, np.array(muslim_features))"
      ],
      "execution_count": 0,
      "outputs": []
    },
    {
      "cell_type": "code",
      "metadata": {
        "id": "lxmVCbEUyZQO",
        "colab_type": "code",
        "colab": {}
      },
      "source": [
        "# lets get started with the clustering \n",
        "\n",
        "def agglomerativeClustering(features,silhouette_df,calinksi_df,davies_df,cluster_df):\n",
        "  thresholds=[500,2000,3000,4000,5000]\n",
        "  linkages=['ward','average','complete','single']\n",
        "  \n",
        "  for threshold in thresholds:\n",
        "    for linkage in linkages:\n",
        "      try:\n",
        "        print(\"Running for \",threshold,linkage)\n",
        "        agglomerative_model = AgglomerativeClustering(n_clusters=None,distance_threshold=threshold,linkage=linkage).fit(np.array(features))\n",
        "        labels =  agglomerative_model.labels_\n",
        "        silhouette_score=metrics.silhouette_score(np.array(features), labels, metric='euclidean')\n",
        "        calinksi_score=metrics.calinski_harabasz_score(np.array(features), labels)\n",
        "        davies_score=davies_bouldin_score(np.array(features), labels)\n",
        "        n_clusters_ = len(set(labels))\n",
        "        print(\"scoring for \",threshold,linkage,calinksi_score,davies_score,n_clusters_)\n",
        "        silhouette_df.loc[str(threshold),linkage]=silhouette_score\n",
        "        calinksi_df.loc[str(threshold),linkage]=calinksi_score\n",
        "        davies_df.loc[str(threshold),linkage]=davies_score\n",
        "        cluster_df.loc[str(threshold),linkage]=n_clusters_\n",
        "      \n",
        "      except ValueError as v:\n",
        "        silhouette_df.loc[str(threshold),linkage]=0\n",
        "        calinksi_df.loc[str(threshold),linkage]=0\n",
        "        davies_df.loc[str(threshold),linkage]=0\n",
        "        cluster_df.loc[str(threshold),linkage]=1\n",
        "        \n",
        "        pass\n",
        "\n",
        "      \n",
        "\n",
        "      \n",
        "  \n",
        "  return silhouette_df,calinksi_df,davies_df,cluster_df,labels\n",
        "\n"
      ],
      "execution_count": 0,
      "outputs": []
    },
    {
      "cell_type": "code",
      "metadata": {
        "id": "bA9i_2UlzW_z",
        "colab_type": "code",
        "colab": {}
      },
      "source": [
        "#calling the agglomerative clustering for muslim / ideology dataset \n",
        "silhouette_df= pd.DataFrame(index=['500','2000','3000','4000','5000'],columns=['ward','average','complete','single'])\n",
        "calinksi_df=pd.DataFrame(index=['500','2000','3000','4000','5000'],columns=['ward','average','complete','single'])\n",
        "davies_df=pd.DataFrame(index=['500','2000','3000','4000','5000'],columns=['ward','average','complete','single'])\n",
        "cluster_df=pd.DataFrame(index=['500','2000','3000','4000','5000'],columns=['ward','average','complete','single'])\n",
        "#uncomment any one of them to run \n",
        "#silhouette_df,calinksi_df,davies_df,cluster_df,labels=agglomerativeClustering(muslim_features,silhouette_df,calinksi_df,davies_df,cluster_df)#for muslim \n",
        "#silhouette_df,calinksi_df,davies_df,cluster_df,labels=agglomerativeClustering(ideology_features,silhouette_df,calinksi_df,davies_df,cluster_df)#for ideology\n",
        "\n"
      ],
      "execution_count": 0,
      "outputs": []
    },
    {
      "cell_type": "code",
      "metadata": {
        "id": "3wJwIq0C2pG1",
        "colab_type": "code",
        "colab": {}
      },
      "source": [
        "def optics(features,silhouette_df,calinksi_df,davies_df,cluster_df):\n",
        "  epsilons=[3,3.5,4]\n",
        "  min_samples=[5,15,30]\n",
        "  for epsilon in epsilons:\n",
        "    for min_sample in min_samples:\n",
        "      try:\n",
        "            print(\"Running for the episold and min samples\",epsilon,min_sample)\n",
        "\n",
        "            optics_model=OPTICS(eps=epsilon,min_samples=min_sample).fit(np.array(features))\n",
        "            labels = optics_model.labels_\n",
        "            \n",
        "            silhouette_score=metrics.silhouette_score(np.array(features), labels, metric='euclidean')\n",
        "            calinksi_score=metrics.calinski_harabasz_score(np.array(features), labels)\n",
        "            davies_score=davies_bouldin_score(np.array(features), labels)\n",
        "            n_clusters_ = len(set(labels)) - (1 if -1 in labels else 0)\n",
        "\n",
        "            print(\"scoring for \",epsilon,min_sample,silhouette_score,calinksi_score,davies_score)\n",
        "            silhouette_df.loc[str(epsilon),str(min_sample)]=silhouette_score\n",
        "            calinksi_df.loc[str(epsilon),str(min_sample)]=calinksi_score\n",
        "            davies_df.loc[str(epsilon),str(min_sample)]=davies_score\n",
        "            cluster_df.loc[str(epsilon),str(min_sample)]=n_clusters_\n",
        "\n",
        "      except ValueError as e:\n",
        "            silhouette_df.loc[str(epsilon),str(min_sample)]=0\n",
        "            calinksi_df.loc[str(epsilon),str(min_sample)]=0\n",
        "            davies_df.loc[str(epsilon),str(min_sample)]=0\n",
        "            cluster_df.loc[str(epsilon),str(min_sample)]=1\n",
        "\n"
      ],
      "execution_count": 0,
      "outputs": []
    },
    {
      "cell_type": "code",
      "metadata": {
        "id": "5FSDBUR700Eg",
        "colab_type": "code",
        "colab": {}
      },
      "source": [
        "#calling the optics clustering for the ideology/ muslim data\n",
        "silhouette_df_optics= pd.DataFrame(index=['3','3.5','4'],columns=['5','15','30'])\n",
        "calinksi_df_optics=pd.DataFrame(index=['3','3.5','4'],columns=['5','15','30'])\n",
        "davies_df_optics=pd.DataFrame(index=['3','3.5','4'],columns=['5','15','30'])\n",
        "cluster_df_optics=pd.DataFrame(index=['3','3.5','4'],columns=['5','15','30'])\n",
        "silhouette_df_optics,calinksi_df_optics,davies_df_optics,cluster_df_optics,labels=optics(muslim_features,silhouette_df_optics,calinksi_df_optics,davies_df_optics,cluster_df_optics)#for muslim \n",
        "silhouette_df_optics,calinksi_df_optics,davies_df_optics,cluster_df_optics,labels=optics(ideology_features,silhouette_df_optics,calinksi_df_optics,davies_df_optics,cluster_df_optics)#for ideology\n",
        "#for ideology \n"
      ],
      "execution_count": 0,
      "outputs": []
    },
    {
      "cell_type": "code",
      "metadata": {
        "id": "WgBpd905j-i3",
        "colab_type": "code",
        "colab": {}
      },
      "source": [
        "def dbscan(features,silhouette_df,calinksi_df,davies_df,cluster_df):\n",
        "      epsilons=[3,3.5,4]\n",
        "      min_samples=[5,15,30]\n",
        "\n",
        "      for epsilon in epsilons:\n",
        "        for min_sample in min_samples:\n",
        "          try:\n",
        "            print(\"Running for the episold and min samples\",epsilon,min_samples)\n",
        "\n",
        "            dbscan_model=DBSCAN(eps=epsilon,min_samples=min_sample).fit(np.array(features))\n",
        "            labels = dbscan_model.labels_\n",
        "            \n",
        "            silhouette_score=metrics.silhouette_score(np.array(features), labels, metric='euclidean')\n",
        "            calinksi_score=metrics.calinski_harabasz_score(np.array(features), labels)\n",
        "            davies_score=davies_bouldin_score(np.array(features), labels)\n",
        "            n_clusters_ = len(set(labels)) - (1 if -1 in labels else 0)\n",
        "            \n",
        "            print(\"scoring for \",epsilon,min_sample,silhouette_score,calinksi_score,davies_score)\n",
        "            silhouette_df.loc[str(epsilon),str(min_sample)]=silhouette_score\n",
        "            calinksi_df.loc[str(epsilon),str(min_sample)]=calinksi_score\n",
        "            davies_df.loc[str(epsilon),str(min_sample)]=davies_score\n",
        "            cluster_df.loc[str(epsilon),str(min_sample)]=n_clusters_\n",
        "\n",
        "\n",
        "      \n",
        "          except ValueError as v:\n",
        "            silhouette_df.loc[str(epsilon),str(min_sample)]=0\n",
        "            calinksi_df.loc[str(epsilon),str(min_sample)]=0\n",
        "            davies_df.loc[str(epsilon),str(min_sample)]=0\n",
        "            cluster_df.loc[str(epsilon),str(min_sample)]=1\n",
        "\n",
        "           \n",
        "            \n",
        "            \n",
        "\n",
        "      return silhouette_df,calinksi_df,davies_df,cluster_df,labels"
      ],
      "execution_count": 0,
      "outputs": []
    },
    {
      "cell_type": "code",
      "metadata": {
        "id": "T0PdMFuSEqMB",
        "colab_type": "code",
        "colab": {}
      },
      "source": [
        "#dbscan clustering for the ideology and the muslim\n",
        "\n",
        "silhouette_df_dbscan= pd.DataFrame(index=['3','3.5','4'],columns=['5','15','30'])\n",
        "calinksi_df_dbscan=pd.DataFrame(index=['3','3.5','4'],columns=['5','15','30'])\n",
        "davies_df_dbscan=pd.DataFrame(index=['3','3.5','4'],columns=['5','15','30'])\n",
        "cluster_df_dbscan=pd.DataFrame(index=['3','3.5','4'],columns=['5','15','30'])\n",
        "silhouette_df_dbscan,calinksi_df_dbscan,davies_df_dbscan,cluster_df_dbscan,labels=dbscan(muslim_features,silhouette_df_dbscan,calinksi_df_dbscan,davies_df_dbscan,cluster_df_dbscan)#for muslim \n",
        "#silhouette_df_dbscan,calinksi_df_dbscan,davies_df_dbscan,cluster_df_dbscan,labels=dbscan(ideology_features,silhouette_df_dbscan,calinksi_df_dbscan,davies_df_dbscan,cluster_df_dbscan)# for ideology\n",
        "\n"
      ],
      "execution_count": 0,
      "outputs": []
    },
    {
      "cell_type": "code",
      "metadata": {
        "id": "_mRIaNIp4wjA",
        "colab_type": "code",
        "colab": {}
      },
      "source": [
        "def mean_shift(features,silhouette_df,calinksi_df,davies_df,cluster_df):\n",
        "      quantiles=[0.2,0.4,0.6,0.8]\n",
        "      n_samples=[500,1000]\n",
        "\n",
        "      for quantile in quantiles:\n",
        "        for n_sample in n_samples:\n",
        "          try:\n",
        "            print(\"Running for the episold and min samples\",quantile,n_sample)\n",
        "            bandwidth = sklearn.cluster.estimate_bandwidth(np.array(features), quantile=quantile, n_samples=n_sample)\n",
        "            mean_model=MeanShift(bandwidth=bandwidth).fit(np.array(features))\n",
        "            labels=mean_model.labels_\n",
        "            \n",
        "            silhouette_score=metrics.silhouette_score(np.array(features), labels, metric='euclidean')\n",
        "            calinksi_score=metrics.calinski_harabasz_score(np.array(features), labels)\n",
        "            davies_score=davies_bouldin_score(np.array(features), labels)\n",
        "            n_clusters_ = len(set(labels)) - (1 if -1 in labels else 0)\n",
        "            \n",
        "            print(\"scoring for \",quantile,n_sample,silhouette_score,calinksi_score,davies_score)\n",
        "            silhouette_df.loc[str(quantile),str(n_sample)]=silhouette_score\n",
        "            calinksi_df.loc[str(quantile),str(n_sample)]=calinksi_score\n",
        "            davies_df.loc[str(quantile),str(n_sample)]=davies_score\n",
        "            cluster_df.loc[str(quantile),str(n_sample)]=n_clusters_\n",
        "\n",
        "\n",
        "      \n",
        "          except ValueError as v:\n",
        "            silhouette_df.loc[str(quantile),str(n_sample)]=0\n",
        "            calinksi_df.loc[str(quantile),str(n_sample)]=0\n",
        "            davies_df.loc[str(quantile),str(n_sample)]=0\n",
        "            cluster_df.loc[str(quantile),str(n_sample)]=1\n",
        "\n",
        "           \n",
        "            \n",
        "            \n",
        "\n",
        "      return silhouette_df,calinksi_df,davies_df,cluster_df,labels"
      ],
      "execution_count": 0,
      "outputs": []
    },
    {
      "cell_type": "code",
      "metadata": {
        "id": "7UJuj0rT5Tk0",
        "colab_type": "code",
        "colab": {}
      },
      "source": [
        "#mean shift clustering for ideology and the muslim dataset \n",
        "silhouette_df_mean_shift= pd.DataFrame(index=['0.2','0.4','0.6','0.8'],columns=['500','1000'])\n",
        "calinksi_df_mean_shift=pd.DataFrame(index=['0.2','0.4','0.6','0.8'],columns=['500','1000'])\n",
        "davies_df_mean_shift=pd.DataFrame(index=['0.2','0.4','0.6','0.8'],columns=['500','1000'])\n",
        "cluster_df_mean_shift=pd.DataFrame(index=['0.2','0.4','0.6','0.8'],columns=['500','1000'])\n",
        "silhouette_df_mean_shift,calinksi_df_mean_shift,davies_df_mean_shift,cluster_df_mean_shift,labels=mean_shift(muslim_features,silhouette_df_mean_shift,calinksi_df_mean_shift,davies_df_mean_shift,cluster_df_mean_shift) #muslim dataset\n",
        "#silhouette_df_mean_shift,calinksi_df_mean_shift,davies_df_mean_shift,cluster_df_mean_shift,labels=mean_shift(ideology_features,silhouette_df_mean_shift,calinksi_df_mean_shift,davies_df_mean_shift,cluster_df_mean_shift)#ideology dataset \n",
        "\n"
      ],
      "execution_count": 0,
      "outputs": []
    },
    {
      "cell_type": "code",
      "metadata": {
        "id": "UF4R9rXg5Th9",
        "colab_type": "code",
        "colab": {}
      },
      "source": [
        ""
      ],
      "execution_count": 0,
      "outputs": []
    },
    {
      "cell_type": "code",
      "metadata": {
        "id": "f00tkHeHYxna",
        "colab_type": "code",
        "outputId": "de84dee3-5075-4bb6-e25f-8ca27b1fe088",
        "colab": {
          "base_uri": "https://localhost:8080/",
          "height": 55
        }
      },
      "source": [
        "\"\"\"\n",
        "plt.plot(x,y)\n",
        "plt.xlabel(\"Threshold\")\n",
        "plt.ylabel(\"Number of Clusters\")\n",
        "plt.title(\"Clusters in Agglomerative clustering w.r.t threshold and linkage \")\n",
        "plt.legend(['ward' ,'average','complete' ,'single'], ncol=2, loc='upper right');\n",
        "\"\"\""
      ],
      "execution_count": 12,
      "outputs": [
        {
          "output_type": "execute_result",
          "data": {
            "text/plain": [
              "'\\nplt.plot(x,y)\\nplt.xlabel(\"Threshold\")\\nplt.ylabel(\"Number of Clusters\")\\nplt.title(\"Clusters in Agglomerative clustering w.r.t threshold and linkage \")\\nplt.legend([\\'ward\\' ,\\'average\\',\\'complete\\' ,\\'single\\'], ncol=2, loc=\\'upper right\\');\\n'"
            ]
          },
          "metadata": {
            "tags": []
          },
          "execution_count": 12
        }
      ]
    },
    {
      "cell_type": "code",
      "metadata": {
        "id": "ueQMgu2gEqPa",
        "colab_type": "code",
        "colab": {}
      },
      "source": [
        ""
      ],
      "execution_count": 0,
      "outputs": []
    }
  ]
}